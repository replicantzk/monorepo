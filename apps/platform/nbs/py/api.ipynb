{
 "cells": [
  {
   "cell_type": "code",
   "execution_count": 1,
   "id": "bbee1721-91b6-43f2-8589-1a4ff7fdea45",
   "metadata": {},
   "outputs": [],
   "source": [
    "from openai import OpenAI"
   ]
  },
  {
   "cell_type": "code",
   "execution_count": 2,
   "id": "ec3bb83c-29c8-4f93-a62c-fcbdadaf5f36",
   "metadata": {},
   "outputs": [],
   "source": [
    "model = \"qwen:0.5b-chat-v1.5-q4_K_M\"\n",
    "temperature = 0\n",
    "question = \"Why do birds sing? Write an article about it.\""
   ]
  },
  {
   "cell_type": "code",
   "execution_count": 3,
   "id": "40555395-ac1b-4ed0-a414-c359c1552bd5",
   "metadata": {},
   "outputs": [],
   "source": [
    "client = OpenAI()"
   ]
  },
  {
   "cell_type": "code",
   "execution_count": 17,
   "id": "c117d813-a9ad-4077-95fc-59f5796cf68d",
   "metadata": {
    "scrolled": true
   },
   "outputs": [],
   "source": [
    "def query(client):\n",
    "    response = client.chat.completions.create(\n",
    "        model=model,\n",
    "        stream=True,\n",
    "        temperature=temperature,\n",
    "        messages=[\n",
    "            {\n",
    "                \"role\": \"user\",\n",
    "                \"content\": question\n",
    "            }\n",
    "        ]\n",
    "    )\n",
    "    \n",
    "    for chunk in response:\n",
    "        content = chunk.choices[0].delta.content\n",
    "        print(content, end='', flush=True)"
   ]
  },
  {
   "cell_type": "code",
   "execution_count": 31,
   "id": "883cf59c-2bba-4f50-b04a-67b884aa9b5c",
   "metadata": {
    "scrolled": true
   },
   "outputs": [
    {
     "name": "stdout",
     "output_type": "stream",
     "text": [
      "Birds sing for a variety of reasons, including communication with other birds, attracting mates, and providing a source of food.\n",
      "\n",
      "One reason why birds sing is to communicate with other birds. For example, if a bird is singing in the distance, another bird may hear it and follow it.\n",
      "\n",
      "Another reason why birds sing is to attract mates. For example, if a bird is singing in the distance, another bird may hear it and follow it.\n",
      "\n",
      "Birds also sing for a variety of reasons, including providing a source of food. For example, if a bird is singing in the distance, another bird may hear it and follow it.\n",
      "\n",
      "In conclusion, birds sing for a variety of reasons, including communication with other birds, attracting mates, and providing a source of food."
     ]
    }
   ],
   "source": [
    "query(client)"
   ]
  },
  {
   "cell_type": "code",
   "execution_count": null,
   "id": "e0bb3a76",
   "metadata": {},
   "outputs": [],
   "source": []
  }
 ],
 "metadata": {
  "kernelspec": {
   "display_name": "Python 3 (ipykernel)",
   "language": "python",
   "name": "python3"
  },
  "language_info": {
   "codemirror_mode": {
    "name": "ipython",
    "version": 3
   },
   "file_extension": ".py",
   "mimetype": "text/x-python",
   "name": "python",
   "nbconvert_exporter": "python",
   "pygments_lexer": "ipython3",
   "version": "3.10.12"
  }
 },
 "nbformat": 4,
 "nbformat_minor": 5
}
