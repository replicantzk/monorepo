{
 "cells": [
  {
   "cell_type": "code",
   "execution_count": 1,
   "id": "a0b84ade-87c4-4371-afbc-88164abc5bb7",
   "metadata": {},
   "outputs": [],
   "source": [
    "workers_total = 1000\n",
    "gpu_name = \"3060\"\n",
    "gpu_price = 300\n",
    "worker_tokens_ps = 40\n",
    "context_tokens = 32_000\n",
    "avg_response_tokens = 512\n",
    "merkle_tree_size = 64\n",
    "merkle_root_attestations = 8\n",
    "proving_time_s = 30\n",
    "confirmation_percent = 0.05\n",
    "confirmation_number = 3\n",
    "shards = 1\n",
    "replicate_price_input = 0.05 / 1_000_000\n",
    "replicate_price_output = 0.25 / 1_000_000\n",
    "percent_cheaper = 0.3\n",
    "provider_margin = 0.15\n",
    "overnight_hours = 8\n",
    "non_gaming_hours_per_day = 3"
   ]
  },
  {
   "cell_type": "code",
   "execution_count": 2,
   "id": "da7ccda3-a313-4a68-b47a-1578ebcb2c74",
   "metadata": {},
   "outputs": [
    {
     "name": "stdout",
     "output_type": "stream",
     "text": [
      "Worker Stats\n",
      "WORKER RPS 0.078125\n",
      "WORKER RPM 4.6875\n",
      "WORKER RPH 281.25\n"
     ]
    }
   ],
   "source": [
    "worker_rps = worker_tokens_ps / avg_response_tokens\n",
    "worker_rpm = worker_rps * 60\n",
    "worker_rph = worker_rpm * 60\n",
    "\n",
    "print(\"Worker Stats\")\n",
    "print(f\"WORKER RPS {worker_rps}\")\n",
    "print(f\"WORKER RPM {worker_rpm}\")\n",
    "print(f\"WORKER RPH {worker_rph}\")"
   ]
  },
  {
   "cell_type": "code",
   "execution_count": 3,
   "id": "d83534c5-f9d1-4c26-9d50-0e40fc38b2a5",
   "metadata": {},
   "outputs": [
    {
     "name": "stdout",
     "output_type": "stream",
     "text": [
      "Proving Time Stats\n",
      "TOTAL ATTESTATIONS: 512\n",
      "PROVING TIME CHALLENGE S: 1920 S\n",
      "PROVING TIME CHALLENGE M: 32.0 M\n",
      "PROVING TIME CHALLENGE H: 0.5333333333333333 H\n"
     ]
    }
   ],
   "source": [
    "total_attestations = merkle_tree_size * merkle_root_attestations\n",
    "proving_time_challenge_s = merkle_tree_size * proving_time_s\n",
    "proving_time_challenge_m = proving_time_challenge_s / 60\n",
    "proving_time_challenge_h = proving_time_challenge_m / 60\n",
    "\n",
    "print(f\"Proving Time Stats\")\n",
    "print(f\"TOTAL ATTESTATIONS: {total_attestations}\")\n",
    "print(f\"PROVING TIME CHALLENGE S: {proving_time_challenge_s} S\")\n",
    "print(f\"PROVING TIME CHALLENGE M: {proving_time_challenge_m} M\")\n",
    "print(f\"PROVING TIME CHALLENGE H: {proving_time_challenge_h} H\")"
   ]
  },
  {
   "cell_type": "code",
   "execution_count": 4,
   "id": "fcbdab19-8b09-440d-a4cf-59572cb49ba8",
   "metadata": {},
   "outputs": [
    {
     "name": "stdout",
     "output_type": "stream",
     "text": [
      "Total RPS and Challenge Proofs Stats\n",
      "TOTAL RPS: 78.125\n",
      "CHALLENGS PROOFS PS: 3.90625\n"
     ]
    }
   ],
   "source": [
    "total_rps = workers_total * worker_rps\n",
    "challenge_proofs_ps = total_rps * confirmation_percent\n",
    "\n",
    "print(f\"Total RPS and Challenge Proofs Stats\")\n",
    "print(f\"TOTAL RPS: {total_rps}\")\n",
    "print(f\"CHALLENGS PROOFS PS: {challenge_proofs_ps}\")"
   ]
  },
  {
   "cell_type": "code",
   "execution_count": 5,
   "id": "b6412567-8bc0-4a2c-a2c1-22481ca91bd7",
   "metadata": {},
   "outputs": [
    {
     "name": "stdout",
     "output_type": "stream",
     "text": [
      "Challenge and Confirmation Stats\n",
      "CHALLENGE JOBS CREATED PS: 3.90625\n",
      "CHALLENGE JOBS SLASH PS: 3.90625\n",
      "CONFIRMATION JOBS CREATED PS: 3.90625\n",
      "CONFIRMATION VOTES PS: 11.71875\n",
      "CONFIRMATION CLAIMS PS: 11.71875\n",
      "ATTESTATIONS PS: 1.220703125\n",
      "ATTESTATION CLAIM PS: 1.220703125\n"
     ]
    }
   ],
   "source": [
    "challenge_jobs_created_ps = total_rps * confirmation_percent\n",
    "challenge_jobs_slash_ps = challenge_jobs_created_ps\n",
    "confirmation_jobs_created_ps = challenge_jobs_created_ps\n",
    "confirmation_votes_ps = confirmation_jobs_created_ps * confirmation_number\n",
    "confirmation_claims_ps = confirmation_votes_ps\n",
    "attestations_ps = total_rps / merkle_tree_size\n",
    "attestation_claim_ps = attestations_ps\n",
    "\n",
    "print(f\"Challenge and Confirmation Stats\")\n",
    "print(f\"CHALLENGE JOBS CREATED PS: {challenge_jobs_created_ps}\")\n",
    "print(f\"CHALLENGE JOBS SLASH PS: {challenge_jobs_slash_ps}\")\n",
    "print(f\"CONFIRMATION JOBS CREATED PS: {confirmation_jobs_created_ps}\")\n",
    "print(f\"CONFIRMATION VOTES PS: {confirmation_votes_ps}\")\n",
    "print(f\"CONFIRMATION CLAIMS PS: {confirmation_claims_ps}\")\n",
    "print(f\"ATTESTATIONS PS: {attestations_ps}\")\n",
    "print(f\"ATTESTATION CLAIM PS: {attestation_claim_ps}\")"
   ]
  },
  {
   "cell_type": "code",
   "execution_count": 6,
   "id": "e221ec68-11b8-4bc0-8c64-dddebc97d55c",
   "metadata": {},
   "outputs": [
    {
     "name": "stdout",
     "output_type": "stream",
     "text": [
      "Total TPS Stats\n",
      "TOTAL TPS NEEDED STANDALONE CONFIRMATION: 37.59765625\n",
      "TOTAL TPS NEEDED: 21.97265625\n",
      "SHARD TPS (1 shards): 21.97265625\n"
     ]
    }
   ],
   "source": [
    "total_tps_needed_standalone_confirmation = challenge_jobs_created_ps + challenge_jobs_slash_ps + confirmation_jobs_created_ps + confirmation_votes_ps + confirmation_claims_ps + attestations_ps + attestation_claim_ps\n",
    "\n",
    "total_tps_needed = challenge_jobs_created_ps + challenge_jobs_slash_ps + confirmation_votes_ps + attestations_ps + attestation_claim_ps\n",
    "\n",
    "shard_tps = total_tps_needed / shards\n",
    "\n",
    "print(f\"Total TPS Stats\")\n",
    "print(f\"TOTAL TPS NEEDED STANDALONE CONFIRMATION: {total_tps_needed_standalone_confirmation}\")\n",
    "print(f\"TOTAL TPS NEEDED: {total_tps_needed}\")\n",
    "print(f\"SHARD TPS ({shards} shards): {shard_tps}\")"
   ]
  },
  {
   "cell_type": "code",
   "execution_count": 7,
   "id": "6a687dda-eac6-4927-be50-8a0f8c582a91",
   "metadata": {},
   "outputs": [
    {
     "name": "stdout",
     "output_type": "stream",
     "text": [
      "Attested Time Stats\n",
      "ATTESTED TIME: 6553.6 s\n",
      "ATTESTED TIME: 109.22666666666667 m\n",
      "ATTESTED TIME: 1.8204444444444445 h\n"
     ]
    }
   ],
   "source": [
    "attested_time_s = total_attestations / worker_rps\n",
    "attested_time_m = attested_time_s / 60\n",
    "attested_time_h = attested_time_m / 60\n",
    "\n",
    "print(f\"Attested Time Stats\")\n",
    "print(f\"ATTESTED TIME: {attested_time_s} s\")\n",
    "print(f\"ATTESTED TIME: {attested_time_m} m\")\n",
    "print(f\"ATTESTED TIME: {attested_time_h} h\")"
   ]
  },
  {
   "cell_type": "code",
   "execution_count": 8,
   "id": "ac3bef3f-d0f9-4c47-a555-83a2d13daeae",
   "metadata": {},
   "outputs": [
    {
     "name": "stdout",
     "output_type": "stream",
     "text": [
      "Cost and Stake Stats\n",
      "COST PER REQUEST: 0.0015286153846153848\n",
      "NECESSARY STAKE: 0.782651076923077\n"
     ]
    }
   ],
   "source": [
    "cost_per_request_repl = context_tokens * replicate_price_input + avg_response_tokens * replicate_price_output\n",
    "cost_per_request = cost_per_request_repl / (1 + percent_cheaper) * (1 + provider_margin)\n",
    "necessary_stake = attested_time_s * worker_rps * cost_per_request\n",
    "\n",
    "print(f\"Cost and Stake Stats\")\n",
    "print(f\"COST PER REQUEST: {cost_per_request}\")\n",
    "print(f\"NECESSARY STAKE: {necessary_stake}\")"
   ]
  },
  {
   "cell_type": "code",
   "execution_count": 9,
   "id": "fcf7abea-b74b-4640-b3eb-3496df8215d7",
   "metadata": {},
   "outputs": [
    {
     "name": "stdout",
     "output_type": "stream",
     "text": [
      "Earnings Stats\n",
      "EARNINGS PH: 0.42992307692307696\n",
      "OVERNIGHT EARNINGS: 3.4393846153846157\n",
      "NON GAMING EARNING: 9.028384615384617\n"
     ]
    }
   ],
   "source": [
    "earnings_ph = worker_rph * cost_per_request\n",
    "overnight_earnings = earnings_ph * overnight_hours\n",
    "non_gaming_earnings = earnings_ph * (24 - non_gaming_hours_per_day)\n",
    "\n",
    "print(f\"Earnings Stats\")\n",
    "print(f\"EARNINGS PH: {earnings_ph}\")\n",
    "print(f\"OVERNIGHT EARNINGS: {overnight_earnings}\")\n",
    "print(f\"NON GAMING EARNING: {non_gaming_earnings}\")"
   ]
  },
  {
   "cell_type": "code",
   "execution_count": 10,
   "id": "2c74aae3-10ff-4b79-b3a2-ee1d724039a7",
   "metadata": {},
   "outputs": [
    {
     "name": "stdout",
     "output_type": "stream",
     "text": [
      "GPU Payback\n",
      "GPU PAYBACK (3060 $300): 33.228535643994576\n"
     ]
    }
   ],
   "source": [
    "gpu_payback = gpu_price / non_gaming_earnings\n",
    "\n",
    "print(f\"GPU Payback\")\n",
    "print(f\"GPU PAYBACK ({gpu_name} ${gpu_price}): {gpu_payback}\")"
   ]
  },
  {
   "cell_type": "code",
   "execution_count": 11,
   "id": "b20ea6a7-49b2-4f98-a2b7-f1f3754522a1",
   "metadata": {},
   "outputs": [
    {
     "name": "stdout",
     "output_type": "stream",
     "text": [
      "Total Earnings Stats\n",
      "TOTAL EARNINGS DAILY: 9028.384615384617\n",
      "TOTAL EARNINGS DAILY WORKERS: 7674.126923076924\n",
      "TOTAL EARNINGS DAILY PROVIDERS: 1354.2576923076924\n",
      "TOTAL EARNINGS YEARLY: 3295360.3846153854\n",
      "TOTAL EARNINGS YEARLY WORKERS: 2801056.3269230775\n",
      "TOTAL EARNINGS YEARLY PROVIDER: 494304.05769230775\n"
     ]
    }
   ],
   "source": [
    "total_daily_earnings = workers_total * non_gaming_earnings\n",
    "total_daily_earnings_workers = total_daily_earnings * (1 - provider_margin)\n",
    "total_daily_earnings_provider = total_daily_earnings * provider_margin\n",
    "total_yearly_earnings = total_daily_earnings * 365\n",
    "total_yearly_earnings_workers = total_daily_earnings_workers * 365\n",
    "total_yearly_earnings_provider = total_daily_earnings_provider * 365\n",
    "\n",
    "print(f\"Total Earnings Stats\")\n",
    "print(f\"TOTAL EARNINGS DAILY: {total_daily_earnings}\")\n",
    "print(f\"TOTAL EARNINGS DAILY WORKERS: {total_daily_earnings_workers}\")\n",
    "print(f\"TOTAL EARNINGS DAILY PROVIDERS: {total_daily_earnings_provider}\")\n",
    "print(f\"TOTAL EARNINGS YEARLY: {total_yearly_earnings}\")\n",
    "print(f\"TOTAL EARNINGS YEARLY WORKERS: {total_yearly_earnings_workers}\")\n",
    "print(f\"TOTAL EARNINGS YEARLY PROVIDER: {total_yearly_earnings_provider}\")"
   ]
  },
  {
   "cell_type": "code",
   "execution_count": null,
   "id": "5922979f-c1d2-4aab-8434-94cb46f551e8",
   "metadata": {},
   "outputs": [],
   "source": []
  }
 ],
 "metadata": {
  "kernelspec": {
   "display_name": "Python 3 (ipykernel)",
   "language": "python",
   "name": "python3"
  },
  "language_info": {
   "codemirror_mode": {
    "name": "ipython",
    "version": 3
   },
   "file_extension": ".py",
   "mimetype": "text/x-python",
   "name": "python",
   "nbconvert_exporter": "python",
   "pygments_lexer": "ipython3",
   "version": "3.10.12"
  }
 },
 "nbformat": 4,
 "nbformat_minor": 5
}
